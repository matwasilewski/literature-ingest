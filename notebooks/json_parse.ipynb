{
 "cells": [
  {
   "cell_type": "code",
   "execution_count": 1,
   "id": "03d41416-2aa4-47ea-b779-098d1bb3e3b1",
   "metadata": {},
   "outputs": [],
   "source": [
    "import json"
   ]
  },
  {
   "cell_type": "code",
   "execution_count": 2,
   "id": "97ffd624-6447-45b4-9d4b-cd5d0648b7e0",
   "metadata": {},
   "outputs": [],
   "source": [
    "with open(\"../botox_mdd.json\") as f:\n",
    "    x = json.load(f)"
   ]
  },
  {
   "cell_type": "code",
   "execution_count": 4,
   "id": "98de6beb-a88c-4aa8-8d54-eb5ce9ef85b3",
   "metadata": {},
   "outputs": [
    {
     "data": {
      "text/plain": [
       "dict_keys(['expected_doc', 'num_search_results', 'actual_doc', 'drug', 'disease'])"
      ]
     },
     "execution_count": 4,
     "metadata": {},
     "output_type": "execute_result"
    }
   ],
   "source": [
    "x.keys()"
   ]
  },
  {
   "cell_type": "code",
   "execution_count": 11,
   "id": "1ed25e81-897d-4e6a-a155-03702133d976",
   "metadata": {},
   "outputs": [
    {
     "data": {
      "text/plain": [
       "dict_keys(['drug', 'disease', 'systematic_review', 'literature_review', 'clinical_trial_phase_3', 'clinical_trial_phase_2', 'cohort_study', 'case_control_study', 'case_study', 'preclinical_animal_model', 'preclinical_cell_line', 'other', 'unknown'])"
      ]
     },
     "execution_count": 11,
     "metadata": {},
     "output_type": "execute_result"
    }
   ],
   "source": [
    "x['actual_doc'].keys()"
   ]
  },
  {
   "cell_type": "code",
   "execution_count": 13,
   "id": "bbd42c2d-7f6b-4f1e-9936-6fa1b522dbe3",
   "metadata": {},
   "outputs": [],
   "source": [
    "records = []\n",
    "\n",
    "doc_types = ['systematic_review', 'literature_review', 'clinical_trial_phase_3', 'clinical_trial_phase_2', 'cohort_study', 'case_control_study', 'case_study', 'preclinical_animal_model', 'preclinical_cell_line', 'other', 'unknown']"
   ]
  },
  {
   "cell_type": "code",
   "execution_count": 21,
   "id": "50252ac3-4b88-4dfd-ae36-cdcbe141db14",
   "metadata": {},
   "outputs": [],
   "source": [
    "records = []\n",
    "\n",
    "for doc_type, docs in x['actual_doc'].items():\n",
    "    if doc_type not in doc_types:\n",
    "        continue\n",
    "    for doc in docs:\n",
    "        records.append({\"title\": doc[\"title\"], \"abstract\": doc['abstract'], \"url\": doc[\"url\"], \"study_type\": doc_type,  \"year\": doc[\"publication_year\"]})"
   ]
  },
  {
   "cell_type": "code",
   "execution_count": 23,
   "id": "b625caca-798f-4631-9c6d-57a291867087",
   "metadata": {},
   "outputs": [],
   "source": [
    "import csv "
   ]
  },
  {
   "cell_type": "code",
   "execution_count": 30,
   "id": "c82a986b-1819-4a1d-9a16-05f9d3513311",
   "metadata": {},
   "outputs": [],
   "source": [
    "x = list(records[0].keys())"
   ]
  },
  {
   "cell_type": "code",
   "execution_count": 32,
   "id": "f888486e-a3df-41c7-b212-9d888ba5491f",
   "metadata": {},
   "outputs": [],
   "source": [
    "output_file = 'botulinum_toxin_studies.csv'\n",
    "\n",
    "fieldnames = set()\n",
    "\n",
    "for item in records:\n",
    "    fieldnames.update(item.keys())\n",
    "\n",
    "with open(output_file, 'w', newline='', encoding='utf-8') as csvfile:\n",
    "    writer = csv.DictWriter(csvfile, fieldnames=fieldnames)\n",
    "    writer.writeheader()\n",
    "    writer.writerows(records)"
   ]
  }
 ],
 "metadata": {
  "kernelspec": {
   "display_name": "Python 3 (ipykernel)",
   "language": "python",
   "name": "python3"
  },
  "language_info": {
   "codemirror_mode": {
    "name": "ipython",
    "version": 3
   },
   "file_extension": ".py",
   "mimetype": "text/x-python",
   "name": "python",
   "nbconvert_exporter": "python",
   "pygments_lexer": "ipython3",
   "version": "3.11.10"
  }
 },
 "nbformat": 4,
 "nbformat_minor": 5
}
